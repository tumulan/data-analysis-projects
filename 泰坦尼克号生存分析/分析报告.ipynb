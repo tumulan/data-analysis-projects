{
 "cells": [
  {
   "cell_type": "markdown",
   "source": [
    "# 一、 有关数据集\n",
    "## 1. 数据集来源\n",
    "平台：Kaggle（全球知名的数据科学竞赛平台）\n",
    "\n",
    "项目名称：Titanic: Machine Learning from Disaster\n",
    "\n",
    "数据集链接：[Titanic Dataset on Kaggle](https://www.kaggle.com/c/titanic/data)\n",
    "\n",
    "## 2. 数据集内容\n",
    "数据集包含两个主要文件：\n",
    "\n",
    "+ train.csv（训练集）：891 条记录，包含乘客的基本信息和是否幸存（Survived 列）。\n",
    "\n",
    "+ test.csv（测试集）：418 条记录，仅包含乘客的基本信息，用于预测是否幸存。\n",
    "\n",
    "**字段说明**\n",
    "\n",
    "|字段名|说明|\n",
    "|  :----  | :----  |\n",
    "|PassengerId|乘客ID（唯一标识）|\n",
    "Survived|是否幸存（1=是，0=否）|\n",
    "Pclass|舱位等级（1=头等舱，2=二等舱，3=三等舱）|\n",
    "Name|乘客姓名|\n",
    "Sex|性别（male=男性，female=女性）|\n",
    "Age|年龄|\n",
    "SibSp|同船兄弟姐妹/配偶数量|\n",
    "Parch|同船父母/子女数量|\n",
    "Ticket|船票编号|\n",
    "Fare|船票价格|\n",
    "Cabin|客舱号（部分缺失）|\n",
    "Embarked|登船港口（C=Cherbourg, Q=Queenstown, S=Southampton）|\n",
    "\n",
    "## 3. 使用场景\n",
    "探索乘客特征与幸存率的关系（如性别、舱位等级、年龄等）。\n",
    "# 二、 数据处理\n",
    "## 1. 加载数据"
   ],
   "metadata": {
    "collapsed": false
   }
  },
  {
   "cell_type": "code",
   "execution_count": null,
   "outputs": [],
   "source": [
    "import pandas as pd\n",
    "import seaborn as sns\n",
    "import matplotlib.pyplot as plt\n",
    "import matplotlib\n",
    "matplotlib.use('TkAgg')\n",
    "# 加载数据集\n",
    "train_data = pd.read_csv('train.csv')\n",
    "test_data = pd.read_csv('test.csv')\n",
    "# 查看数据基本信息\n",
    "print(train_data.info())\n",
    "print(test_data.info())\n"
   ],
   "metadata": {
    "collapsed": false,
    "pycharm": {
     "name": "#%%\n"
    }
   }
  },
  {
   "cell_type": "markdown",
   "source": [
    "## 2. 数据概览\n",
    "+ 训练集：891 条记录，12 列。\n",
    "\n",
    "+ 测试集：418 条记录，11 列（缺少 Survived 列）。\n",
    "\n",
    "## 3. 数据清洗\n",
    "### （1）处理缺失值"
   ],
   "metadata": {
    "collapsed": false,
    "pycharm": {
     "name": "#%% md\n"
    }
   }
  },
  {
   "cell_type": "code",
   "execution_count": null,
   "outputs": [],
   "source": [
    "train_data['Age'] = train_data['Age'].fillna(train_data['Age'].median())  # 年龄用中位数填充\n",
    "train_data['Embarked'] = train_data['Embarked'].fillna(train_data['Embarked'].mode()[0])  # 登船港口用众数填充\n",
    "train_data = train_data.drop(columns=['Cabin'])  # 删除 Cabin 列（缺失率过高）\n",
    "\n",
    "# 测试集同样处理\n",
    "test_data['Age'] = test_data['Age'].fillna(test_data['Age'].median())\n",
    "test_data['Fare'] = test_data['Fare'].fillna(test_data['Fare'].median())\n",
    "test_data = test_data.drop(columns=['Cabin'])"
   ],
   "metadata": {
    "collapsed": false,
    "pycharm": {
     "name": "#%%\n"
    }
   }
  },
  {
   "cell_type": "markdown",
   "source": [
    "### （2） 数据格式转换\n",
    "+ 将 Sex 转换为数值型（male=0, female=1）。\n",
    "\n",
    "+ 将 Embarked 转换为数值型（S=0, C=1, Q=2）。"
   ],
   "metadata": {
    "collapsed": false,
    "pycharm": {
     "name": "#%% md\n"
    }
   }
  },
  {
   "cell_type": "code",
   "execution_count": null,
   "outputs": [],
   "source": [
    "train_data['Sex'] = train_data['Sex'].map({'male': 0, 'female': 1})\n",
    "train_data['Embarked'] = train_data['Embarked'].map({'S': 0, 'C': 1, 'Q': 2})\n",
    "\n",
    "# 测试集同样处理\n",
    "test_data['Sex'] = test_data['Sex'].map({'male': 0, 'female': 1})\n",
    "test_data['Embarked'] = test_data['Embarked'].map({'S': 0, 'C': 1, 'Q': 2})"
   ],
   "metadata": {
    "collapsed": false,
    "pycharm": {
     "name": "#%%\n"
    }
   }
  },
  {
   "cell_type": "markdown",
   "source": [
    "# 三、 探索性分析"
   ],
   "metadata": {
    "collapsed": false,
    "pycharm": {
     "name": "#%% md\n"
    }
   }
  },
  {
   "cell_type": "markdown",
   "source": [
    "## 1. 幸存率分析"
   ],
   "metadata": {
    "collapsed": false,
    "pycharm": {
     "name": "#%% md\n"
    }
   }
  },
  {
   "cell_type": "code",
   "execution_count": null,
   "outputs": [],
   "source": [
    "# 总体幸存率\n",
    "survival_rate = train_data['Survived'].mean()\n",
    "print(f\"Overall survival rate: {survival_rate:.2%}\")\n",
    "\n",
    "# 按性别分析\n",
    "sns.barplot(x='Sex', y='Survived', data=train_data)\n",
    "plt.title('Survival Rate by Sex')\n",
    "plt.savefig('survival_by_sex.png')  # 保存图表\n",
    "plt.close()\n",
    "# 按舱位等级分析\n",
    "sns.barplot(x='Pclass', y='Survived', data=train_data)\n",
    "plt.title('Survival Rate by Pclass')\n",
    "plt.savefig('survival_by_pclass.png')  # 保存图表\n",
    "plt.close()"
   ],
   "metadata": {
    "collapsed": false,
    "pycharm": {
     "name": "#%%\n"
    }
   }
  },
  {
   "cell_type": "markdown",
   "source": [
    "![按性别分析](survival_by_sex.png)\n",
    "\n",
    "![按舱位等级分析](survival_by_pclass.png)\n",
    "## 2. 年龄分布与幸存率"
   ],
   "metadata": {
    "collapsed": false
   }
  },
  {
   "cell_type": "code",
   "execution_count": null,
   "outputs": [],
   "source": [
    "# 年龄分布\n",
    "sns.histplot(train_data['Age'], bins=20, kde=True)\n",
    "plt.title('Age Distribution')\n",
    "plt.savefig('age_distribution.png')  # 保存图表\n",
    "plt.close()\n",
    "\n",
    "# 年龄与幸存率\n",
    "sns.boxplot(x='Survived', y='Age', data=train_data)\n",
    "plt.title('Age Distribution by Survival')\n",
    "plt.savefig('age_by_survival.png')  # 保存图表\n",
    "plt.close()"
   ],
   "metadata": {
    "collapsed": false,
    "pycharm": {
     "name": "#%%\n"
    }
   }
  },
  {
   "cell_type": "markdown",
   "source": [
    "![年龄分布](age_distribution.png)\n",
    "\n",
    "![按年龄分析](age_by_survival.png)"
   ],
   "metadata": {
    "collapsed": false,
    "pycharm": {
     "name": "#%% md\n"
    }
   }
  }
 ],
 "metadata": {
  "kernelspec": {
   "display_name": "Python 3",
   "language": "python",
   "name": "python3"
  },
  "language_info": {
   "codemirror_mode": {
    "name": "ipython",
    "version": 2
   },
   "file_extension": ".py",
   "mimetype": "text/x-python",
   "name": "python",
   "nbconvert_exporter": "python",
   "pygments_lexer": "ipython2",
   "version": "2.7.6"
  }
 },
 "nbformat": 4,
 "nbformat_minor": 0
}