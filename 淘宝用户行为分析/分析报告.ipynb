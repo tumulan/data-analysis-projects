{
 "cells": [
  {
   "cell_type": "markdown",
   "metadata": {
    "collapsed": true,
    "pycharm": {
     "name": "#%% md\n"
    }
   },
   "source": [
    "# 一、 数据 集信息\n",
    "## 1.数据来源：阿里云天池（[Tianchi]( https://tianchi.aliyun.com/dataset/649 ))\n",
    "\n",
    "## 2. 数据集内容：包含用户ID、商品ID、行为类型（点击、收藏、加购、购买）、时间戳。\n",
    "\n",
    "## 3. 数据集大小\n",
    "|维度|数量|\n",
    "|:---|:---|\n",
    "|用户数量|987,994|\n",
    "|商品数量|4,162,024|\n",
    "|用户数量|987,994|\n",
    "|商品类目数量|9,439|\n",
    "|所有行为数量|100,150,807|\n",
    "\n",
    "\n"
   ]
  }
 ],
 "metadata": {
  "kernelspec": {
   "display_name": "Python 3",
   "language": "python",
   "name": "python3"
  },
  "language_info": {
   "codemirror_mode": {
    "name": "ipython",
    "version": 2
   },
   "file_extension": ".py",
   "mimetype": "text/x-python",
   "name": "python",
   "nbconvert_exporter": "python",
   "pygments_lexer": "ipython2",
   "version": "2.7.6"
  }
 },
 "nbformat": 4,
 "nbformat_minor": 0
}