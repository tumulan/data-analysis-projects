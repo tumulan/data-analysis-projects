{
 "cells": [
  {
   "cell_type": "markdown",
   "metadata": {},
   "source": [
    "# 一、 数据集信息"
   ]
  },
  {
   "cell_type": "markdown",
   "metadata": {
    "collapsed": true,
    "jupyter": {
     "outputs_hidden": true
    }
   },
   "source": [
    "## 1. 数据来源：阿里云天池（[Tianchi]( https://tianchi.aliyun.com/dataset/649 ))\n",
    "## 2. 数据集内容：\n",
    "|文件名称|说明|包含特征|\n",
    "|:---|:----|:---|\n",
    "|UserBehavior.csv|包含所有的用户行为数据|用户ID，商品ID，商品类目ID，行为类型，时间戳|\n",
    "\n",
    "**字段说明**\n",
    "\n",
    "|列名称|说明|\n",
    "|:---|:---|\n",
    "|用户ID|整数类型，序列化后的用户ID|\n",
    "|商品ID|整数类型，序列化后的商品ID|\n",
    "|商品类目ID|整数类型，序列化后的商品所属类目ID|\n",
    "|行为类型|字符串，枚举类型，包括('pv', 'buy', 'cart', 'fav')|\n",
    "|时间戳|行为发生的时间戳|\n",
    "\n",
    "注意到，用户行为类型共有四种，它们分别是\n",
    "\n",
    "|行为类型|说明|\n",
    "|:---|:---|\n",
    "|pv|商品详情页pv，等价于点击|\n",
    "|buy|商品购买|\n",
    "|cart|将商品加入购物车|\n",
    "|fav|收藏商品|\n",
    "## 3. 数据集大小\n",
    "|维度|数量|\n",
    "|:---|:---|\n",
    "|用户数量|987,994|\n",
    "|商品数量|4,162,024|\n",
    "|用户数量|987,994|\n",
    "|商品类目数量|9,439|\n",
    "|所有行为数量|100,150,807|"
   ]
  },
  {
   "cell_type": "markdown",
   "metadata": {},
   "source": [
    "# 二、 数据清洗"
   ]
  },
  {
   "cell_type": "code",
   "execution_count": 1,
   "metadata": {},
   "outputs": [],
   "source": [
    "# 导入必要的包\n",
    "import pandas as pd\n",
    "import numpy as np"
   ]
  },
  {
   "cell_type": "code",
   "execution_count": 2,
   "metadata": {},
   "outputs": [],
   "source": [
    "# 加载数据集\n",
    "user_data = pd.read_csv('UserBehavior.csv',header=None)"
   ]
  },
  {
   "cell_type": "code",
   "execution_count": 3,
   "metadata": {},
   "outputs": [
    {
     "name": "stdout",
     "output_type": "stream",
     "text": [
      "<class 'pandas.core.frame.DataFrame'>\n",
      "RangeIndex: 100150807 entries, 0 to 100150806\n",
      "Data columns (total 5 columns):\n",
      " #   Column  Dtype \n",
      "---  ------  ----- \n",
      " 0   0       int64 \n",
      " 1   1       int64 \n",
      " 2   2       int64 \n",
      " 3   3       object\n",
      " 4   4       int64 \n",
      "dtypes: int64(4), object(1)\n",
      "memory usage: 3.7+ GB\n"
     ]
    },
    {
     "data": {
      "text/html": [
       "<div>\n",
       "<style scoped>\n",
       "    .dataframe tbody tr th:only-of-type {\n",
       "        vertical-align: middle;\n",
       "    }\n",
       "\n",
       "    .dataframe tbody tr th {\n",
       "        vertical-align: top;\n",
       "    }\n",
       "\n",
       "    .dataframe thead th {\n",
       "        text-align: right;\n",
       "    }\n",
       "</style>\n",
       "<table border=\"1\" class=\"dataframe\">\n",
       "  <thead>\n",
       "    <tr style=\"text-align: right;\">\n",
       "      <th></th>\n",
       "      <th>0</th>\n",
       "      <th>1</th>\n",
       "      <th>2</th>\n",
       "      <th>3</th>\n",
       "      <th>4</th>\n",
       "    </tr>\n",
       "  </thead>\n",
       "  <tbody>\n",
       "    <tr>\n",
       "      <th>0</th>\n",
       "      <td>1</td>\n",
       "      <td>2268318</td>\n",
       "      <td>2520377</td>\n",
       "      <td>pv</td>\n",
       "      <td>1511544070</td>\n",
       "    </tr>\n",
       "    <tr>\n",
       "      <th>1</th>\n",
       "      <td>1</td>\n",
       "      <td>2333346</td>\n",
       "      <td>2520771</td>\n",
       "      <td>pv</td>\n",
       "      <td>1511561733</td>\n",
       "    </tr>\n",
       "    <tr>\n",
       "      <th>2</th>\n",
       "      <td>1</td>\n",
       "      <td>2576651</td>\n",
       "      <td>149192</td>\n",
       "      <td>pv</td>\n",
       "      <td>1511572885</td>\n",
       "    </tr>\n",
       "    <tr>\n",
       "      <th>3</th>\n",
       "      <td>1</td>\n",
       "      <td>3830808</td>\n",
       "      <td>4181361</td>\n",
       "      <td>pv</td>\n",
       "      <td>1511593493</td>\n",
       "    </tr>\n",
       "    <tr>\n",
       "      <th>4</th>\n",
       "      <td>1</td>\n",
       "      <td>4365585</td>\n",
       "      <td>2520377</td>\n",
       "      <td>pv</td>\n",
       "      <td>1511596146</td>\n",
       "    </tr>\n",
       "  </tbody>\n",
       "</table>\n",
       "</div>"
      ],
      "text/plain": [
       "   0        1        2   3           4\n",
       "0  1  2268318  2520377  pv  1511544070\n",
       "1  1  2333346  2520771  pv  1511561733\n",
       "2  1  2576651   149192  pv  1511572885\n",
       "3  1  3830808  4181361  pv  1511593493\n",
       "4  1  4365585  2520377  pv  1511596146"
      ]
     },
     "execution_count": 3,
     "metadata": {},
     "output_type": "execute_result"
    }
   ],
   "source": [
    "# 查看数据信息\n",
    "user_data.info()\n",
    "user_data.head()"
   ]
  },
  {
   "cell_type": "code",
   "execution_count": 4,
   "metadata": {},
   "outputs": [
    {
     "data": {
      "text/html": [
       "<div>\n",
       "<style scoped>\n",
       "    .dataframe tbody tr th:only-of-type {\n",
       "        vertical-align: middle;\n",
       "    }\n",
       "\n",
       "    .dataframe tbody tr th {\n",
       "        vertical-align: top;\n",
       "    }\n",
       "\n",
       "    .dataframe thead th {\n",
       "        text-align: right;\n",
       "    }\n",
       "</style>\n",
       "<table border=\"1\" class=\"dataframe\">\n",
       "  <thead>\n",
       "    <tr style=\"text-align: right;\">\n",
       "      <th></th>\n",
       "      <th>用户ID</th>\n",
       "      <th>商品ID</th>\n",
       "      <th>商品类目ID</th>\n",
       "      <th>行为类型</th>\n",
       "      <th>时间戳</th>\n",
       "    </tr>\n",
       "  </thead>\n",
       "  <tbody>\n",
       "    <tr>\n",
       "      <th>0</th>\n",
       "      <td>1</td>\n",
       "      <td>2268318</td>\n",
       "      <td>2520377</td>\n",
       "      <td>pv</td>\n",
       "      <td>1511544070</td>\n",
       "    </tr>\n",
       "    <tr>\n",
       "      <th>1</th>\n",
       "      <td>1</td>\n",
       "      <td>2333346</td>\n",
       "      <td>2520771</td>\n",
       "      <td>pv</td>\n",
       "      <td>1511561733</td>\n",
       "    </tr>\n",
       "    <tr>\n",
       "      <th>2</th>\n",
       "      <td>1</td>\n",
       "      <td>2576651</td>\n",
       "      <td>149192</td>\n",
       "      <td>pv</td>\n",
       "      <td>1511572885</td>\n",
       "    </tr>\n",
       "    <tr>\n",
       "      <th>3</th>\n",
       "      <td>1</td>\n",
       "      <td>3830808</td>\n",
       "      <td>4181361</td>\n",
       "      <td>pv</td>\n",
       "      <td>1511593493</td>\n",
       "    </tr>\n",
       "    <tr>\n",
       "      <th>4</th>\n",
       "      <td>1</td>\n",
       "      <td>4365585</td>\n",
       "      <td>2520377</td>\n",
       "      <td>pv</td>\n",
       "      <td>1511596146</td>\n",
       "    </tr>\n",
       "  </tbody>\n",
       "</table>\n",
       "</div>"
      ],
      "text/plain": [
       "   用户ID     商品ID   商品类目ID 行为类型         时间戳\n",
       "0     1  2268318  2520377   pv  1511544070\n",
       "1     1  2333346  2520771   pv  1511561733\n",
       "2     1  2576651   149192   pv  1511572885\n",
       "3     1  3830808  4181361   pv  1511593493\n",
       "4     1  4365585  2520377   pv  1511596146"
      ]
     },
     "execution_count": 4,
     "metadata": {},
     "output_type": "execute_result"
    }
   ],
   "source": [
    "# 列名矫正\n",
    "user_data.columns = ['用户ID', '商品ID', '商品类目ID', '行为类型', '时间戳']\n",
    "user_data.head()"
   ]
  },
  {
   "cell_type": "code",
   "execution_count": 5,
   "metadata": {},
   "outputs": [
    {
     "data": {
      "text/plain": [
       "用户ID      0\n",
       "商品ID      0\n",
       "商品类目ID    0\n",
       "行为类型      0\n",
       "时间戳       0\n",
       "dtype: int64"
      ]
     },
     "execution_count": 5,
     "metadata": {},
     "output_type": "execute_result"
    }
   ],
   "source": [
    "# 缺失值检查\n",
    "user_data.isnull().sum()"
   ]
  },
  {
   "cell_type": "code",
   "execution_count": 6,
   "metadata": {},
   "outputs": [
    {
     "data": {
      "text/plain": [
       "49"
      ]
     },
     "execution_count": 6,
     "metadata": {},
     "output_type": "execute_result"
    }
   ],
   "source": [
    "# 重复值检查\n",
    "user_data.duplicated().sum()"
   ]
  },
  {
   "cell_type": "code",
   "execution_count": 7,
   "metadata": {},
   "outputs": [],
   "source": [
    "# 重复值处理\n",
    "user_data.drop_duplicates(inplace=True)"
   ]
  },
  {
   "cell_type": "code",
   "execution_count": 8,
   "metadata": {},
   "outputs": [
    {
     "data": {
      "text/html": [
       "<div>\n",
       "<style scoped>\n",
       "    .dataframe tbody tr th:only-of-type {\n",
       "        vertical-align: middle;\n",
       "    }\n",
       "\n",
       "    .dataframe tbody tr th {\n",
       "        vertical-align: top;\n",
       "    }\n",
       "\n",
       "    .dataframe thead th {\n",
       "        text-align: right;\n",
       "    }\n",
       "</style>\n",
       "<table border=\"1\" class=\"dataframe\">\n",
       "  <thead>\n",
       "    <tr style=\"text-align: right;\">\n",
       "      <th></th>\n",
       "      <th>用户ID</th>\n",
       "      <th>商品ID</th>\n",
       "      <th>商品类目ID</th>\n",
       "      <th>行为类型</th>\n",
       "      <th>时间戳</th>\n",
       "    </tr>\n",
       "  </thead>\n",
       "  <tbody>\n",
       "  </tbody>\n",
       "</table>\n",
       "</div>"
      ],
      "text/plain": [
       "Empty DataFrame\n",
       "Columns: [用户ID, 商品ID, 商品类目ID, 行为类型, 时间戳]\n",
       "Index: []"
      ]
     },
     "execution_count": 8,
     "metadata": {},
     "output_type": "execute_result"
    }
   ],
   "source": [
    "# 异常值检测与处理\n",
    "valid_values = {'pv', 'buy', 'cart', 'fav'}\n",
    "invalid_mask = ~user_data['行为类型'].isin(valid_values)\n",
    "invalid_user = user_data[invalid_mask]\n",
    "invalid_user"
   ]
  },
  {
   "cell_type": "code",
   "execution_count": 9,
   "metadata": {},
   "outputs": [],
   "source": [
    "# 日期格式转换\n",
    "user_data['时间戳'] = pd.to_datetime(user_data['时间戳'], unit='s', errors='coerce')"
   ]
  },
  {
   "cell_type": "code",
   "execution_count": 10,
   "metadata": {},
   "outputs": [],
   "source": [
    "# 保存处理后的数据\n",
    "user_data.to_csv(\"UserBehavior_v1.csv\")"
   ]
  },
  {
   "cell_type": "markdown",
   "metadata": {},
   "source": [
    "# 三、 探索性分析"
   ]
  },
  {
   "cell_type": "code",
   "execution_count": 11,
   "metadata": {},
   "outputs": [],
   "source": [
    "# 导入必要的包\n",
    "from IPython.display import Markdown"
   ]
  },
  {
   "cell_type": "markdown",
   "metadata": {},
   "source": [
    "## 1. 用户活跃时间分布\n",
    "利用PV和UV进行综合分析"
   ]
  },
  {
   "cell_type": "code",
   "execution_count": 12,
   "metadata": {},
   "outputs": [
    {
     "data": {
      "text/html": [
       "<div>\n",
       "<style scoped>\n",
       "    .dataframe tbody tr th:only-of-type {\n",
       "        vertical-align: middle;\n",
       "    }\n",
       "\n",
       "    .dataframe tbody tr th {\n",
       "        vertical-align: top;\n",
       "    }\n",
       "\n",
       "    .dataframe thead th {\n",
       "        text-align: right;\n",
       "    }\n",
       "</style>\n",
       "<table border=\"1\" class=\"dataframe\">\n",
       "  <thead>\n",
       "    <tr style=\"text-align: right;\">\n",
       "      <th></th>\n",
       "      <th>用户ID</th>\n",
       "      <th>商品ID</th>\n",
       "      <th>商品类目ID</th>\n",
       "      <th>行为类型</th>\n",
       "      <th>时间戳</th>\n",
       "      <th>小时</th>\n",
       "      <th>星期</th>\n",
       "    </tr>\n",
       "  </thead>\n",
       "  <tbody>\n",
       "    <tr>\n",
       "      <th>0</th>\n",
       "      <td>1</td>\n",
       "      <td>2268318</td>\n",
       "      <td>2520377</td>\n",
       "      <td>pv</td>\n",
       "      <td>2017-11-24 17:21:10</td>\n",
       "      <td>17</td>\n",
       "      <td>Friday</td>\n",
       "    </tr>\n",
       "    <tr>\n",
       "      <th>1</th>\n",
       "      <td>1</td>\n",
       "      <td>2333346</td>\n",
       "      <td>2520771</td>\n",
       "      <td>pv</td>\n",
       "      <td>2017-11-24 22:15:33</td>\n",
       "      <td>22</td>\n",
       "      <td>Friday</td>\n",
       "    </tr>\n",
       "    <tr>\n",
       "      <th>2</th>\n",
       "      <td>1</td>\n",
       "      <td>2576651</td>\n",
       "      <td>149192</td>\n",
       "      <td>pv</td>\n",
       "      <td>2017-11-25 01:21:25</td>\n",
       "      <td>1</td>\n",
       "      <td>Saturday</td>\n",
       "    </tr>\n",
       "    <tr>\n",
       "      <th>3</th>\n",
       "      <td>1</td>\n",
       "      <td>3830808</td>\n",
       "      <td>4181361</td>\n",
       "      <td>pv</td>\n",
       "      <td>2017-11-25 07:04:53</td>\n",
       "      <td>7</td>\n",
       "      <td>Saturday</td>\n",
       "    </tr>\n",
       "    <tr>\n",
       "      <th>4</th>\n",
       "      <td>1</td>\n",
       "      <td>4365585</td>\n",
       "      <td>2520377</td>\n",
       "      <td>pv</td>\n",
       "      <td>2017-11-25 07:49:06</td>\n",
       "      <td>7</td>\n",
       "      <td>Saturday</td>\n",
       "    </tr>\n",
       "  </tbody>\n",
       "</table>\n",
       "</div>"
      ],
      "text/plain": [
       "   用户ID     商品ID   商品类目ID 行为类型                 时间戳  小时        星期\n",
       "0     1  2268318  2520377   pv 2017-11-24 17:21:10  17    Friday\n",
       "1     1  2333346  2520771   pv 2017-11-24 22:15:33  22    Friday\n",
       "2     1  2576651   149192   pv 2017-11-25 01:21:25   1  Saturday\n",
       "3     1  3830808  4181361   pv 2017-11-25 07:04:53   7  Saturday\n",
       "4     1  4365585  2520377   pv 2017-11-25 07:49:06   7  Saturday"
      ]
     },
     "execution_count": 12,
     "metadata": {},
     "output_type": "execute_result"
    }
   ],
   "source": [
    "# 转换时间戳为datetime格式，并提取小时\n",
    "user_data['小时'] = user_data['时间戳'].dt.hour\n",
    "\n",
    "# 提取星期\n",
    "user_data['星期'] = user_data['时间戳'].dt.day_name()\n",
    "user_data.head()\n"
   ]
  },
  {
   "cell_type": "code",
   "execution_count": 13,
   "metadata": {},
   "outputs": [
    {
     "data": {
      "text/html": [
       "<div>\n",
       "<style scoped>\n",
       "    .dataframe tbody tr th:only-of-type {\n",
       "        vertical-align: middle;\n",
       "    }\n",
       "\n",
       "    .dataframe tbody tr th {\n",
       "        vertical-align: top;\n",
       "    }\n",
       "\n",
       "    .dataframe thead th {\n",
       "        text-align: right;\n",
       "    }\n",
       "</style>\n",
       "<table border=\"1\" class=\"dataframe\">\n",
       "  <thead>\n",
       "    <tr style=\"text-align: right;\">\n",
       "      <th></th>\n",
       "      <th>小时</th>\n",
       "      <th>PV</th>\n",
       "    </tr>\n",
       "  </thead>\n",
       "  <tbody>\n",
       "    <tr>\n",
       "      <th>13</th>\n",
       "      <td>13</td>\n",
       "      <td>7544178</td>\n",
       "    </tr>\n",
       "    <tr>\n",
       "      <th>14</th>\n",
       "      <td>14</td>\n",
       "      <td>7450304</td>\n",
       "    </tr>\n",
       "    <tr>\n",
       "      <th>12</th>\n",
       "      <td>12</td>\n",
       "      <td>6590521</td>\n",
       "    </tr>\n",
       "    <tr>\n",
       "      <th>15</th>\n",
       "      <td>15</td>\n",
       "      <td>5612303</td>\n",
       "    </tr>\n",
       "    <tr>\n",
       "      <th>11</th>\n",
       "      <td>11</td>\n",
       "      <td>5434314</td>\n",
       "    </tr>\n",
       "  </tbody>\n",
       "</table>\n",
       "</div>"
      ],
      "text/plain": [
       "    小时       PV\n",
       "13  13  7544178\n",
       "14  14  7450304\n",
       "12  12  6590521\n",
       "15  15  5612303\n",
       "11  11  5434314"
      ]
     },
     "execution_count": 13,
     "metadata": {},
     "output_type": "execute_result"
    }
   ],
   "source": [
    "# 统计每小时的浏览行为（PV）总量\n",
    "hourly_pv = user_data[user_data['行为类型'] == 'pv'].groupby('小时').size().reset_index(name='PV')\n",
    "\n",
    "#按PV量降序排序\n",
    "hourly_pv_sorted = hourly_pv.sort_values('PV', ascending=False)\n",
    "hourly_pv_sorted.head()"
   ]
  },
  {
   "cell_type": "code",
   "execution_count": 14,
   "metadata": {},
   "outputs": [
    {
     "data": {
      "text/html": [
       "<div>\n",
       "<style scoped>\n",
       "    .dataframe tbody tr th:only-of-type {\n",
       "        vertical-align: middle;\n",
       "    }\n",
       "\n",
       "    .dataframe tbody tr th {\n",
       "        vertical-align: top;\n",
       "    }\n",
       "\n",
       "    .dataframe thead th {\n",
       "        text-align: right;\n",
       "    }\n",
       "</style>\n",
       "<table border=\"1\" class=\"dataframe\">\n",
       "  <thead>\n",
       "    <tr style=\"text-align: right;\">\n",
       "      <th></th>\n",
       "      <th>星期</th>\n",
       "      <th>PV</th>\n",
       "    </tr>\n",
       "  </thead>\n",
       "  <tbody>\n",
       "    <tr>\n",
       "      <th>2</th>\n",
       "      <td>Saturday</td>\n",
       "      <td>21911434</td>\n",
       "    </tr>\n",
       "    <tr>\n",
       "      <th>3</th>\n",
       "      <td>Sunday</td>\n",
       "      <td>20186364</td>\n",
       "    </tr>\n",
       "    <tr>\n",
       "      <th>0</th>\n",
       "      <td>Friday</td>\n",
       "      <td>11107275</td>\n",
       "    </tr>\n",
       "    <tr>\n",
       "      <th>4</th>\n",
       "      <td>Thursday</td>\n",
       "      <td>9448777</td>\n",
       "    </tr>\n",
       "    <tr>\n",
       "      <th>6</th>\n",
       "      <td>Wednesday</td>\n",
       "      <td>9243866</td>\n",
       "    </tr>\n",
       "  </tbody>\n",
       "</table>\n",
       "</div>"
      ],
      "text/plain": [
       "          星期        PV\n",
       "2   Saturday  21911434\n",
       "3     Sunday  20186364\n",
       "0     Friday  11107275\n",
       "4   Thursday   9448777\n",
       "6  Wednesday   9243866"
      ]
     },
     "execution_count": 14,
     "metadata": {},
     "output_type": "execute_result"
    }
   ],
   "source": [
    "# 统计每天的浏览行为（PV）总量\n",
    "daily_pv = user_data[user_data['行为类型'] == 'pv'].groupby('星期').size().reset_index(name='PV')\n",
    "\n",
    "#按PV量降序排序\n",
    "daily_pv_sorted = daily_pv.sort_values('PV', ascending=False)\n",
    "daily_pv_sorted.head()"
   ]
  },
  {
   "cell_type": "code",
   "execution_count": 15,
   "metadata": {},
   "outputs": [
    {
     "data": {
      "text/html": [
       "<div>\n",
       "<style scoped>\n",
       "    .dataframe tbody tr th:only-of-type {\n",
       "        vertical-align: middle;\n",
       "    }\n",
       "\n",
       "    .dataframe tbody tr th {\n",
       "        vertical-align: top;\n",
       "    }\n",
       "\n",
       "    .dataframe thead th {\n",
       "        text-align: right;\n",
       "    }\n",
       "</style>\n",
       "<table border=\"1\" class=\"dataframe\">\n",
       "  <thead>\n",
       "    <tr style=\"text-align: right;\">\n",
       "      <th></th>\n",
       "      <th>小时</th>\n",
       "      <th>UV</th>\n",
       "    </tr>\n",
       "  </thead>\n",
       "  <tbody>\n",
       "    <tr>\n",
       "      <th>13</th>\n",
       "      <td>13</td>\n",
       "      <td>662806</td>\n",
       "    </tr>\n",
       "    <tr>\n",
       "      <th>12</th>\n",
       "      <td>12</td>\n",
       "      <td>642223</td>\n",
       "    </tr>\n",
       "    <tr>\n",
       "      <th>14</th>\n",
       "      <td>14</td>\n",
       "      <td>630785</td>\n",
       "    </tr>\n",
       "    <tr>\n",
       "      <th>11</th>\n",
       "      <td>11</td>\n",
       "      <td>602959</td>\n",
       "    </tr>\n",
       "    <tr>\n",
       "      <th>7</th>\n",
       "      <td>7</td>\n",
       "      <td>581136</td>\n",
       "    </tr>\n",
       "  </tbody>\n",
       "</table>\n",
       "</div>"
      ],
      "text/plain": [
       "    小时      UV\n",
       "13  13  662806\n",
       "12  12  642223\n",
       "14  14  630785\n",
       "11  11  602959\n",
       "7    7  581136"
      ]
     },
     "execution_count": 15,
     "metadata": {},
     "output_type": "execute_result"
    }
   ],
   "source": [
    "# 统计每小时的独立用户数\n",
    "hourly_uv = user_data[user_data['行为类型'] == 'pv'].groupby('小时')['用户ID'].nunique().reset_index(name='UV')\n",
    "\n",
    "# 按UV量降序排序\n",
    "hourly_uv_sorted = hourly_uv.sort_values('UV', ascending=False)\n",
    "hourly_uv_sorted.head()"
   ]
  },
  {
   "cell_type": "code",
   "execution_count": 16,
   "metadata": {},
   "outputs": [
    {
     "data": {
      "text/html": [
       "<div>\n",
       "<style scoped>\n",
       "    .dataframe tbody tr th:only-of-type {\n",
       "        vertical-align: middle;\n",
       "    }\n",
       "\n",
       "    .dataframe tbody tr th {\n",
       "        vertical-align: top;\n",
       "    }\n",
       "\n",
       "    .dataframe thead th {\n",
       "        text-align: right;\n",
       "    }\n",
       "</style>\n",
       "<table border=\"1\" class=\"dataframe\">\n",
       "  <thead>\n",
       "    <tr style=\"text-align: right;\">\n",
       "      <th></th>\n",
       "      <th>星期</th>\n",
       "      <th>UV</th>\n",
       "    </tr>\n",
       "  </thead>\n",
       "  <tbody>\n",
       "    <tr>\n",
       "      <th>2</th>\n",
       "      <td>Saturday</td>\n",
       "      <td>955593</td>\n",
       "    </tr>\n",
       "    <tr>\n",
       "      <th>3</th>\n",
       "      <td>Sunday</td>\n",
       "      <td>946694</td>\n",
       "    </tr>\n",
       "    <tr>\n",
       "      <th>0</th>\n",
       "      <td>Friday</td>\n",
       "      <td>765539</td>\n",
       "    </tr>\n",
       "    <tr>\n",
       "      <th>4</th>\n",
       "      <td>Thursday</td>\n",
       "      <td>711406</td>\n",
       "    </tr>\n",
       "    <tr>\n",
       "      <th>6</th>\n",
       "      <td>Wednesday</td>\n",
       "      <td>698687</td>\n",
       "    </tr>\n",
       "  </tbody>\n",
       "</table>\n",
       "</div>"
      ],
      "text/plain": [
       "          星期      UV\n",
       "2   Saturday  955593\n",
       "3     Sunday  946694\n",
       "0     Friday  765539\n",
       "4   Thursday  711406\n",
       "6  Wednesday  698687"
      ]
     },
     "execution_count": 16,
     "metadata": {},
     "output_type": "execute_result"
    }
   ],
   "source": [
    "# 统计每天的独立用户数\n",
    "daily_uv = user_data[user_data['行为类型'] == 'pv'].groupby('星期')['用户ID'].nunique().reset_index(name='UV')\n",
    "\n",
    "# 按UV量降序排序\n",
    "daily_uv_sorted = daily_uv.sort_values('UV', ascending=False)\n",
    "daily_uv_sorted.head()"
   ]
  },
  {
   "cell_type": "code",
   "execution_count": 17,
   "metadata": {},
   "outputs": [
    {
     "data": {
      "text/markdown": [
       "\n",
       "- **PV最高时段**: 13:00 (7,544,178次浏览)\n",
       "- **UV最高时段**: 13:00 (662,806个独立用户)\n"
      ],
      "text/plain": [
       "<IPython.core.display.Markdown object>"
      ]
     },
     "execution_count": 17,
     "metadata": {},
     "output_type": "execute_result"
    }
   ],
   "source": [
    "peak_pv_hour = hourly_pv_sorted.iloc[0]['小时']\n",
    "peak_pv_count = hourly_pv_sorted.iloc[0]['PV']\n",
    "\n",
    "peak_uv_hour = hourly_uv_sorted.iloc[0]['小时']\n",
    "peak_uv_count = hourly_uv_sorted.iloc[0]['UV']\n",
    "Markdown(f\"\"\"\n",
    "- **PV最高时段**: {peak_pv_hour}:00 ({peak_pv_count:,}次浏览)\n",
    "- **UV最高时段**: {peak_uv_hour}:00 ({peak_uv_count:,}个独立用户)\n",
    "\"\"\")"
   ]
  },
  {
   "cell_type": "markdown",
   "metadata": {},
   "source": [
    "## 2. 购买转化率\n",
    "**行为路径**\n",
    "- pv→buy\n",
    "- pv→cart→buy\n",
    "- pv→fav→buy"
   ]
  },
  {
   "cell_type": "code",
   "execution_count": 18,
   "metadata": {},
   "outputs": [
    {
     "data": {
      "text/plain": [
       "行为类型\n",
       "buy     672404\n",
       "cart    738996\n",
       "fav     389823\n",
       "pv      984114\n",
       "Name: 用户ID, dtype: int64"
      ]
     },
     "execution_count": 18,
     "metadata": {},
     "output_type": "execute_result"
    }
   ],
   "source": [
    "# 计算各行为类型的用户数\n",
    "behavior_counts = user_data.groupby('行为类型')['用户ID'].nunique()\n",
    "behavior_counts"
   ]
  },
  {
   "cell_type": "code",
   "execution_count": 19,
   "metadata": {},
   "outputs": [],
   "source": [
    "# 计算转化率指标\n",
    "pv_users = behavior_counts.get('pv', 0)  # 浏览用户数\n",
    "cart_users = behavior_counts.get('cart', 0)  # 加购用户数\n",
    "fav_users = behavior_counts.get('fav', 0)  # 收藏用户数\n",
    "buy_users = behavior_counts.get('buy', 0)  # 购买用户数"
   ]
  },
  {
   "cell_type": "code",
   "execution_count": 20,
   "metadata": {},
   "outputs": [],
   "source": [
    "# 计算行为路径转化\n",
    "\n",
    "cart_buy_users = user_data[user_data['用户ID'].isin(user_data[user_data['行为类型']=='cart']['用户ID']) & \n",
    "                (user_data['行为类型']=='buy')]['用户ID'].nunique()\n",
    "\n",
    "fav_buy_users = user_data[user_data['用户ID'].isin(user_data[user_data['行为类型']=='fav']['用户ID']) & \n",
    "               (user_data['行为类型']=='buy')]['用户ID'].nunique()"
   ]
  },
  {
   "cell_type": "code",
   "execution_count": 21,
   "metadata": {},
   "outputs": [
    {
     "data": {
      "text/markdown": [
       "\n",
       "- **整体转化率：** 68.33%\n",
       "\n",
       "- **加购转化率：** 71.87%\n",
       "\n",
       "- **收藏转化率：** 71.12%\n"
      ],
      "text/plain": [
       "<IPython.core.display.Markdown object>"
      ]
     },
     "execution_count": 21,
     "metadata": {},
     "output_type": "execute_result"
    }
   ],
   "source": [
    "Markdown(f\"\"\"\n",
    "- **整体转化率：** {buy_users/pv_users:.2%}\n",
    "\n",
    "- **加购转化率：** {cart_buy_users/cart_users:.2%}\n",
    "\n",
    "- **收藏转化率：** {fav_buy_users/fav_users:.2%}\n",
    "\"\"\")"
   ]
  },
  {
   "cell_type": "markdown",
   "metadata": {},
   "source": [
    "## 3. 复购率"
   ]
  },
  {
   "cell_type": "code",
   "execution_count": 22,
   "metadata": {},
   "outputs": [
    {
     "data": {
      "text/plain": [
       "用户ID\n",
       "2          7\n",
       "4          4\n",
       "11         1\n",
       "16         2\n",
       "17         1\n",
       "          ..\n",
       "1017999    8\n",
       "1018002    2\n",
       "1018009    2\n",
       "1018010    6\n",
       "1018011    1\n",
       "Length: 672404, dtype: int64"
      ]
     },
     "execution_count": 22,
     "metadata": {},
     "output_type": "execute_result"
    }
   ],
   "source": [
    "# 计算每个用户的购买次数\n",
    "user_purchase_counts = user_data[user_data['行为类型'] == 'buy'].groupby('用户ID').size()\n",
    "user_purchase_counts"
   ]
  },
  {
   "cell_type": "code",
   "execution_count": 23,
   "metadata": {},
   "outputs": [
    {
     "data": {
      "text/markdown": [
       "\n",
       "- ***复购率：*** 66.01%\n"
      ],
      "text/plain": [
       "<IPython.core.display.Markdown object>"
      ]
     },
     "execution_count": 23,
     "metadata": {},
     "output_type": "execute_result"
    }
   ],
   "source": [
    "# 计算复购率\n",
    "repeat_purchase_users = user_purchase_counts[user_purchase_counts >= 2].count()\n",
    "total_purchase_users = user_purchase_counts.count()\n",
    "Markdown(f\"\"\"\n",
    "- ***复购率：*** {repeat_purchase_users / total_purchase_users:.2%}\n",
    "\"\"\")"
   ]
  },
  {
   "cell_type": "markdown",
   "metadata": {},
   "source": [
    "## 4. 总结\n",
    "- **用户活跃时段：** ***每天的11点——14点、每周的周六和周日***\n",
    "\n",
    "- **复购率：** ***66.01%***\n",
    "\n",
    "### 购买转化率\n",
    "\n",
    "- **整体转化率：** ***68.33%***\n",
    "\n",
    "- **加购转化率：** ***71.87%***\n",
    "\n",
    "- **收藏转化率：** ***71.12%***"
   ]
  },
  {
   "cell_type": "markdown",
   "metadata": {},
   "source": [
    "# 四、 数据可视化"
   ]
  },
  {
   "cell_type": "code",
   "execution_count": 24,
   "metadata": {},
   "outputs": [],
   "source": [
    "# 导入必要的包\n",
    "import matplotlib.pyplot as plt\n",
    "import seaborn as sns\n",
    "import matplotlib as mpl\n",
    "import plotly.express as px\n",
    "# 设置中文字体\n",
    "mpl.rcParams['font.sans-serif'] = ['Microsoft YaHei'] \n",
    "mpl.rcParams['axes.unicode_minus'] = False"
   ]
  },
  {
   "cell_type": "markdown",
   "metadata": {},
   "source": [
    "## 1. 用户活跃时间可视化"
   ]
  },
  {
   "cell_type": "code",
   "execution_count": 25,
   "metadata": {},
   "outputs": [
    {
     "data": {
      "text/plain": [
       "<Figure size 1400x600 with 0 Axes>"
      ]
     },
     "metadata": {},
     "output_type": "display_data"
    },
    {
     "data": {
      "image/png": "[encoded data removed]",
      "text/plain": [
       "<Figure size 640x480 with 1 Axes>"
      ]
     },
     "metadata": {},
     "output_type": "display_data"
    }
   ],
   "source": [
    "plt.figure(figsize=(14, 6))\n",
    "hourly_pv.plot(kind='bar', color='#3498db', alpha=0.7)\n",
    "plt.title('用户活跃时段分布（PV）', fontsize=15)\n",
    "plt.xlabel('小时', fontsize=12)\n",
    "plt.ylabel('浏览量', fontsize=12)\n",
    "plt.grid(axis='y', linestyle='--', alpha=0.6)\n",
    "plt.show()"
   ]
  },
  {
   "cell_type": "code",
   "execution_count": 26,
   "metadata": {},
   "outputs": [
    {
     "data": {
      "text/plain": [
       "<Figure size 1400x600 with 0 Axes>"
      ]
     },
     "metadata": {},
     "output_type": "display_data"
    },
    {
     "data": {
      "image/png": "[encoded data removed]",
      "text/plain": [
       "<Figure size 640x480 with 1 Axes>"
      ]
     },
     "metadata": {},
     "output_type": "display_data"
    }
   ],
   "source": [
    "plt.figure(figsize=(14, 6))\n",
    "hourly_uv.plot(kind='bar', color='#3498db', alpha=0.7)\n",
    "plt.title('用户活跃时段分布（UV）', fontsize=15)\n",
    "plt.xlabel('小时', fontsize=12)\n",
    "plt.ylabel('浏览量', fontsize=12)\n",
    "plt.grid(axis='y', linestyle='--', alpha=0.6)\n",
    "plt.show()"
   ]
  },
  {
   "cell_type": "code",
   "execution_count": 27,
   "metadata": {},
   "outputs": [
    {
     "data": {
      "text/html": [
       "<div>\n",
       "<style scoped>\n",
       "    .dataframe tbody tr th:only-of-type {\n",
       "        vertical-align: middle;\n",
       "    }\n",
       "\n",
       "    .dataframe tbody tr th {\n",
       "        vertical-align: top;\n",
       "    }\n",
       "\n",
       "    .dataframe thead th {\n",
       "        text-align: right;\n",
       "    }\n",
       "</style>\n",
       "<table border=\"1\" class=\"dataframe\">\n",
       "  <thead>\n",
       "    <tr style=\"text-align: right;\">\n",
       "      <th></th>\n",
       "      <th>行为类型</th>\n",
       "      <th>用户数</th>\n",
       "    </tr>\n",
       "  </thead>\n",
       "  <tbody>\n",
       "    <tr>\n",
       "      <th>0</th>\n",
       "      <td>浏览</td>\n",
       "      <td>984114</td>\n",
       "    </tr>\n",
       "    <tr>\n",
       "      <th>1</th>\n",
       "      <td>收藏</td>\n",
       "      <td>389823</td>\n",
       "    </tr>\n",
       "    <tr>\n",
       "      <th>2</th>\n",
       "      <td>加购</td>\n",
       "      <td>738996</td>\n",
       "    </tr>\n",
       "    <tr>\n",
       "      <th>3</th>\n",
       "      <td>购买</td>\n",
       "      <td>672404</td>\n",
       "    </tr>\n",
       "  </tbody>\n",
       "</table>\n",
       "</div>"
      ],
      "text/plain": [
       "  行为类型     用户数\n",
       "0   浏览  984114\n",
       "1   收藏  389823\n",
       "2   加购  738996\n",
       "3   购买  672404"
      ]
     },
     "execution_count": 27,
     "metadata": {},
     "output_type": "execute_result"
    }
   ],
   "source": [
    "# 漏斗\n",
    "funnel_data = pd.DataFrame({\n",
    "    '行为类型': ['浏览', '收藏', '加购', '购买'],\n",
    "    '用户数': [\n",
    "        user_data[user_data['行为类型']=='pv']['用户ID'].nunique(),\n",
    "        user_data[user_data['行为类型']=='fav']['用户ID'].nunique(),\n",
    "        user_data[user_data['行为类型']=='cart']['用户ID'].nunique(),\n",
    "        user_data[user_data['行为类型']=='buy']['用户ID'].nunique()\n",
    "    ]\n",
    "})\n",
    "funnel_data"
   ]
  },
  {
   "cell_type": "code",
   "execution_count": 29,
   "metadata": {},
   "outputs": [
    {
     "data": {
      "image/png": "[encoded data removed]",
      "text/plain": [
       "<Figure size 1000x600 with 1 Axes>"
      ]
     },
     "metadata": {},
     "output_type": "display_data"
    }
   ],
   "source": [
    "# 1. 计算转化率\n",
    "funnel_data['转化率'] = (funnel_data['用户数'] / funnel_data['用户数'].iloc[0]).apply(lambda x: f\"{x:.1%}\")\n",
    "\n",
    "# 2. 创建漏斗图\n",
    "fig, ax = plt.subplots(figsize=(10, 6))\n",
    "\n",
    "colors = plt.cm.Blues(np.linspace(0.3, 1, len(funnel_data)))\n",
    "y_pos = np.arange(len(funnel_data))\n",
    "\n",
    "# 绘制水平条形图（漏斗效果）\n",
    "bars = ax.barh(\n",
    "    y_pos, \n",
    "    funnel_data['用户数'],\n",
    "    color=colors,\n",
    "    height=0.6,\n",
    "    edgecolor='white'\n",
    ")\n",
    "\n",
    "# 3. 添加数据标签\n",
    "for i, (value, rate) in enumerate(zip(funnel_data['用户数'], funnel_data['转化率'])):\n",
    "    ax.text(\n",
    "        value + max(funnel_data['用户数'])*0.02, \n",
    "        i,\n",
    "        f\"{value}\\n({rate})\",\n",
    "        va='center',\n",
    "        fontsize=10,\n",
    "        color='black'\n",
    "    )\n",
    "\n",
    "# 4. 图表美化\n",
    "ax.set_yticks(y_pos)\n",
    "ax.set_yticklabels(funnel_data['行为类型'], fontsize=12)\n",
    "ax.invert_yaxis()  # 翻转Y轴使漏斗朝上\n",
    "ax.set_xlim(0, max(funnel_data['用户数'])*1.2)\n",
    "ax.set_title('淘宝用户行为转化漏斗（浏览→购买）', pad=20, fontsize=14)\n",
    "ax.spines['top'].set_visible(False)\n",
    "ax.spines['right'].set_visible(False)\n",
    "ax.grid(axis='x', linestyle='--', alpha=0.3)\n",
    "\n",
    "plt.tight_layout()"
   ]
  },
  {
   "cell_type": "markdown",
   "metadata": {},
   "source": [
    "# 五、 结论"
   ]
  },
  {
   "cell_type": "markdown",
   "metadata": {},
   "source": [
    "## 1. 分析发现\n",
    "- 用户活跃度在11点到14点，与通勤和休闲时间相吻合，同时用户大多在周末的活跃度最高。\n",
    "- 加购转化率>收藏转化率>整体转化率\n",
    "- 复购率为66.01%，显示较高的用户忠诚度。"
   ]
  }
 ],
 "metadata": {
  "kernelspec": {
   "display_name": "Python 3 (ipykernel)",
   "language": "python",
   "name": "python3"
  },
  "language_info": {
   "codemirror_mode": {
    "name": "ipython",
    "version": 3
   },
   "file_extension": ".py",
   "mimetype": "text/x-python",
   "name": "python",
   "nbconvert_exporter": "python",
   "pygments_lexer": "ipython3",
   "version": "3.12.4"
  }
 },
 "nbformat": 4,
 "nbformat_minor": 4
}
